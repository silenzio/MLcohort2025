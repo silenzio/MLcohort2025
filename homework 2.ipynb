{
 "cells": [
  {
   "cell_type": "code",
   "execution_count": 1,
   "id": "e761ed10-19d7-438f-8724-03413a837831",
   "metadata": {},
   "outputs": [
    {
     "name": "stdout",
     "output_type": "stream",
     "text": [
      "pandas version: 2.3.1\n",
      "numpy version: 2.3.3\n",
      "python version: 3.13.7 (main, Aug 15 2025, 12:34:02) [GCC 15.2.1 20250813]\n"
     ]
    }
   ],
   "source": [
    "import sys\n",
    "import pandas as pd\n",
    "import numpy as np\n",
    "import matplotlib.pyplot as plt\n",
    "import seaborn as sns\n",
    "\n",
    "\n",
    "print(\"pandas version: \"+pd.__version__)\n",
    "print(\"numpy version: \"+np.__version__)\n",
    "print(\"python version: \"+sys.version)"
   ]
  },
  {
   "cell_type": "code",
   "execution_count": 2,
   "id": "f4443a55-6da9-4b44-97d7-96da5203211e",
   "metadata": {},
   "outputs": [],
   "source": [
    "# source file : wget https://raw.githubusercontent.com/alexeygrigorev/datasets/master/car_fuel_efficiency.csv \n",
    "df = pd.read_csv('car_fuel_efficiency.csv')\n"
   ]
  },
  {
   "cell_type": "code",
   "execution_count": 3,
   "id": "a29f5de9-2fb1-42b7-8548-4d7313031730",
   "metadata": {
    "scrolled": true
   },
   "outputs": [],
   "source": [
    "# Data Preparation\n",
    "\n",
    "# In this step the lowering of the column names happens.\n",
    "# and the replacement of spaces ' ' with underscores '_'\n",
    "\n",
    "\n",
    "df.columns = df.columns.str.lower().str.replace(' ', '_')"
   ]
  },
  {
   "cell_type": "code",
   "execution_count": 4,
   "id": "959dc0f2-76df-45b7-8b02-f16dd2d0d982",
   "metadata": {},
   "outputs": [
    {
     "data": {
      "text/plain": [
       "['origin', 'fuel_type', 'drivetrain']"
      ]
     },
     "execution_count": 4,
     "metadata": {},
     "output_type": "execute_result"
    }
   ],
   "source": [
    "# select only the objects \n",
    "# the objects are the \"values\"\n",
    "# the parameters is the \"index\"\n",
    "# as the index is needed the index function is used \n",
    "# and converted to a list\n",
    "strings = list(df.dtypes[df.dtypes == 'object'].index)"
   ]
  },
  {
   "cell_type": "code",
   "execution_count": 5,
   "id": "ee755d06-7c8c-45d9-a6b0-47df7c280e77",
   "metadata": {},
   "outputs": [],
   "source": [
    "for col in strings:\n",
    "        df[col] = df[col].str.lower().str.replace(' ', '_')"
   ]
  },
  {
   "cell_type": "code",
   "execution_count": 9,
   "id": "b02ac478-3b53-48e3-bdc0-b697d61722d4",
   "metadata": {},
   "outputs": [],
   "source": [
    "# Splitting up \n",
    "n = len(df)\n",
    "\n",
    "n_val = int(n * 0.2)\n",
    "n_test = int(n * 0.2)\n",
    "n_train = n - n_val - n_test"
   ]
  },
  {
   "cell_type": "code",
   "execution_count": 10,
   "id": "8a02ce5c-df3a-47f0-a912-4cf2daa25cfa",
   "metadata": {},
   "outputs": [
    {
     "data": {
      "text/plain": [
       "(9704, 1940, 1940, 5824)"
      ]
     },
     "execution_count": 10,
     "metadata": {},
     "output_type": "execute_result"
    }
   ],
   "source": [
    "n, n_val, n_test, n_train "
   ]
  },
  {
   "cell_type": "code",
   "execution_count": 11,
   "id": "3b078608-2da3-447d-87ef-2d83ba12fb40",
   "metadata": {},
   "outputs": [],
   "source": [
    "df_val = df.iloc[:n_val]\n",
    "df_test = df.iloc[n_val:n_val+n_test]\n",
    "df_train = df.iloc[n_val+n_test:]"
   ]
  },
  {
   "cell_type": "code",
   "execution_count": 12,
   "id": "16eec75e-8603-4d6a-b2ea-224a5767b012",
   "metadata": {},
   "outputs": [],
   "source": [
    "idx = np.arange(n)"
   ]
  },
  {
   "cell_type": "code",
   "execution_count": 13,
   "id": "a5a89ab8-4bf2-4fdb-a051-58ba87d1234f",
   "metadata": {},
   "outputs": [],
   "source": [
    "np.random.seed(42)\n",
    "np.random.shuffle(idx)"
   ]
  },
  {
   "cell_type": "code",
   "execution_count": 14,
   "id": "10fd7afc-3fca-455d-8611-4bfe8c61efe8",
   "metadata": {},
   "outputs": [],
   "source": [
    "df_train = df.iloc[idx[n_train:]]\n",
    "df_val = df.iloc[idx[n_train:n_train+n_val]]\n",
    "df_test = df.iloc[idx[n_train+n_val:]]"
   ]
  },
  {
   "cell_type": "code",
   "execution_count": 15,
   "id": "f0aa6a3e-ca0c-4c66-8ea8-9d61846b0174",
   "metadata": {},
   "outputs": [
    {
     "data": {
      "text/plain": [
       "engine_displacement                270\n",
       "num_cylinders                      2.0\n",
       "horsepower                       117.0\n",
       "vehicle_weight             2443.507303\n",
       "acceleration                      11.5\n",
       "model_year                        2015\n",
       "origin                            asia\n",
       "fuel_type                       diesel\n",
       "drivetrain             all-wheel_drive\n",
       "num_doors                         -2.0\n",
       "fuel_efficiency_mpg          17.802756\n",
       "Name: 490, dtype: object"
      ]
     },
     "execution_count": 15,
     "metadata": {},
     "output_type": "execute_result"
    }
   ],
   "source": [
    "df_train.iloc[10]"
   ]
  },
  {
   "cell_type": "code",
   "execution_count": 16,
   "id": "80dc7b25-0b96-4f7a-8ac8-12943540ad68",
   "metadata": {},
   "outputs": [
    {
     "name": "stdout",
     "output_type": "stream",
     "text": [
      "Column 'engine_displacement' has 0 missing values.\n",
      "Column 'horsepower' has 708 missing values.\n",
      "Column 'vehicle_weight' has 0 missing values.\n",
      "Column 'model_year' has 0 missing values.\n"
     ]
    }
   ],
   "source": [
    "# Q1: There's one column with missing values. What is it?\n",
    "\n",
    "columns_to_check = ['engine_displacement', 'horsepower', 'vehicle_weight', 'model_year']\n",
    "for col in columns_to_check:\n",
    "    if col in df.columns:\n",
    "        missing_count = df[col].isnull().sum()\n",
    "        print(f\"Column '{col}' has {missing_count} missing values.\")\n",
    "    else:\n",
    "        print(f\"Column '{col}' is not found in the DataFrame.\")\n"
   ]
  },
  {
   "cell_type": "code",
   "execution_count": 17,
   "id": "4b1e445a-f451-417a-a002-aa7707f12756",
   "metadata": {},
   "outputs": [
    {
     "name": "stdout",
     "output_type": "stream",
     "text": [
      "The median (50% percentile) for variable 'horsepower' is: 149.0\n"
     ]
    }
   ],
   "source": [
    "# Q2: What's the median (50% percentile) for variable 'horsepower'?\n",
    "\n",
    "median_value = df['horsepower'].median()\n",
    "print(f\"The median (50% percentile) for variable 'horsepower' is: {median_value}\")"
   ]
  },
  {
   "cell_type": "code",
   "execution_count": 18,
   "id": "2e11b62f-f18a-4716-a455-7fd14c07d1a0",
   "metadata": {},
   "outputs": [],
   "source": [
    "# Q3: Filling NAs\n",
    "\n",
    "#   We need to deal with missing values for the column from Q1.\n",
    "#   We have two options: fill it with 0 or with the mean of this variable.\n",
    "#   Try both options. For each, train a linear regression model without regularization using the code from the lessons.\n",
    "#   For computing the mean, use the training only!\n",
    "#   Use the validation dataset to evaluate the models and compare the RMSE of each option.\n",
    "#   Round the RMSE scores to 2 decimal digits using round(score, 2)\n",
    "#   Which option gives better RMSE?\n",
    "\n",
    "#  Values from lecture \n",
    "w0 = 7.17\n",
    "w = [0.01,0.04,0.002]\n",
    "\n",
    "# Create a list concatenation for prepending\n",
    "w_new = [w0] + w"
   ]
  },
  {
   "cell_type": "code",
   "execution_count": 19,
   "id": "e3f5cce4-cfde-434f-b04a-512905de39cb",
   "metadata": {},
   "outputs": [],
   "source": [
    "# vector vector multiplication\n",
    "def dot(xi, w):\n",
    "    n = len(xi)\n",
    "    res = 0.0    \n",
    "    for j in range(n):\n",
    "        res = res + xi[j] * w[j]\n",
    "    return res"
   ]
  },
  {
   "cell_type": "code",
   "execution_count": 20,
   "id": "3f8aa489-a01d-4014-939f-9de74d761f57",
   "metadata": {},
   "outputs": [],
   "source": [
    "# linear_regression - shorter notation with \"list concatenation for prepending\"\n",
    "def linear_regression_short(xi):\n",
    "    xi = [1] + xi\n",
    "    return dot(xi, w_new)"
   ]
  },
  {
   "cell_type": "code",
   "execution_count": 21,
   "id": "f6515c03-924b-4150-82c6-c9d65401aba8",
   "metadata": {},
   "outputs": [],
   "source": [
    "def linear_regression(X):\n",
    "    return X.dot(w_new)"
   ]
  },
  {
   "cell_type": "code",
   "execution_count": 22,
   "id": "90fb9a9b-6f10-4f76-a1c1-a2f5d9430867",
   "metadata": {},
   "outputs": [],
   "source": [
    "def train_linear_regression(x, y):\n",
    "    ones = np.ones(x.shape[0])\n",
    "    x = np.column_stack([ones, x])\n",
    "    XTX = x.T.dot(x)\n",
    "    XTX_inv = np.linalg.inv(XTX)\n",
    "    w_full = XTX_inv.dot(x.T).dot(y)\n",
    "    return w_full[0], w_full[1:]"
   ]
  },
  {
   "cell_type": "code",
   "execution_count": 23,
   "id": "148ca14a-f8a8-4969-934f-697cf19d57c1",
   "metadata": {},
   "outputs": [],
   "source": [
    "# logarithmic transformation to stabilize variance in regression targets due containing zero's.\n",
    "y_train = np.log1p(df_train.horsepower.values)\n",
    "y_val = np.log1p(df_val.horsepower.values)\n",
    "y_test = np.log1p(df_test.horsepower.values)"
   ]
  },
  {
   "cell_type": "code",
   "execution_count": 24,
   "id": "85f2381b-7f90-43eb-8483-28197c12b594",
   "metadata": {},
   "outputs": [],
   "source": [
    "base = ['horsepower']"
   ]
  },
  {
   "cell_type": "code",
   "execution_count": 25,
   "id": "6b3b2c8f-58f1-4980-9954-296d561b1811",
   "metadata": {},
   "outputs": [],
   "source": [
    "#  Fill target 'y' with 0 \n",
    "y_train_filled_with_Zero = df_train[base].fillna(0).values\n",
    "y_val_filled_with_Zero = df_val[base].fillna(0).values\n",
    "\n",
    "# Fill with 'y' with mean\n",
    "y_train_filled_with_Mean = df_train[base].fillna(df_train[base].mean()).values\n",
    "y_val_filled_with_Mean = df_val[base].fillna(df_val[base].mean()).values"
   ]
  },
  {
   "cell_type": "code",
   "execution_count": 26,
   "id": "c1feb231-d47c-4058-b509-daa6d5484b68",
   "metadata": {},
   "outputs": [],
   "source": [
    "# logarithmic transformation to stabilize variance in regression targets due containing zero's.\n",
    "\n",
    "y_train_0 = np.log1p(y_train_filled_with_Zero)\n",
    "y_val_0 = np.log1p(y_val_filled_with_Zero)\n",
    "\n",
    "y_train_mean = np.log1p(y_train_filled_with_Mean)\n",
    "y_val_mean = np.log1p(y_val_filled_with_Mean)"
   ]
  },
  {
   "cell_type": "code",
   "execution_count": 34,
   "id": "a9340d26-9b0e-4555-92af-b23ea8792491",
   "metadata": {},
   "outputs": [
    {
     "name": "stdout",
     "output_type": "stream",
     "text": [
      "rmse_0: 109.86\n",
      "rmse_mean: 92.96\n",
      "\n",
      "A lower RMSE indicates that the model’s predictions are closer to the true values on average,\n",
      " meaning better predictive accuracy.\n"
     ]
    }
   ],
   "source": [
    "#### Step 1: Fill missing values\n",
    "#  Fill with 0 \n",
    "x_train_filled_with_Zero = df_train[base].fillna(0).values\n",
    "x_val_filled_with_Zero = df_val[base].fillna(0).values\n",
    "\n",
    "# Fill with mean\n",
    "x_train_filled_with_Mean = df_train[base].fillna(df_train[base].mean()).values\n",
    "x_val_filled_with_Mean = df_val[base].fillna(df_val[base].mean()).values\n",
    "\n",
    "#### Step 2: Train models\n",
    "bias_0, model_0        =train_linear_regression(x_train_filled_with_Zero, y_train_0)\n",
    "bias_mean, model_mean  =train_linear_regression(x_train_filled_with_Mean, y_train_0)\n",
    "\n",
    "y_train_back_from_0 = np.expm1(y_train_0)\n",
    "y_val_back_from_0 = np.expm1(y_val_0)\n",
    "\n",
    "y_train_back_from_Mean = np.expm1(y_train_mean)\n",
    "y_val_back_from_Mean = np.expm1(y_val_mean)\n",
    "\n",
    "#### Step 3: predictions\n",
    "y_pred_0    = bias_0 + x_val_filled_with_Zero.dot(model_0)\n",
    "y_pred_mean = bias_mean + x_val_filled_with_Mean.dot(model_mean)\n",
    "\n",
    "#### Step 4: RMSE calculation\n",
    "rmse_0 = np.sqrt(np.mean((y_val_back_from_0 - np.argmax(y_pred_0)) ** 2))\n",
    "rmse_mean = np.sqrt(np.mean((y_val_back_from_Mean - np.argmax(y_pred_mean)) ** 2))\n",
    "\n",
    "#### Step 5: Round\n",
    "print(\"rmse_0:\", round(rmse_0, 2))\n",
    "print(\"rmse_mean:\", round(rmse_mean, 2))\n",
    "print()\n",
    "print(\"A lower RMSE indicates that the model’s predictions are closer to the true values on average,\\n meaning better predictive accuracy.\")"
   ]
  },
  {
   "cell_type": "code",
   "execution_count": null,
   "id": "92c90231-2212-448c-8e92-3bdabe87669f",
   "metadata": {},
   "outputs": [],
   "source": []
  }
 ],
 "metadata": {
  "kernelspec": {
   "display_name": "Python 3 (ipykernel)",
   "language": "python",
   "name": "python3"
  },
  "language_info": {
   "codemirror_mode": {
    "name": "ipython",
    "version": 3
   },
   "file_extension": ".py",
   "mimetype": "text/x-python",
   "name": "python",
   "nbconvert_exporter": "python",
   "pygments_lexer": "ipython3",
   "version": "3.13.7"
  }
 },
 "nbformat": 4,
 "nbformat_minor": 5
}
