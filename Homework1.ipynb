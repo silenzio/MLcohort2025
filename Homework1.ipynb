{
 "cells": [
  {
   "cell_type": "code",
   "execution_count": 1,
   "id": "7c0f63d3-8d7e-49c0-b004-54bec5d4752f",
   "metadata": {},
   "outputs": [
    {
     "data": {
      "text/plain": [
       "'2.3.1'"
      ]
     },
     "execution_count": 1,
     "metadata": {},
     "output_type": "execute_result"
    }
   ],
   "source": [
    "# Q1. Pandas version\n",
    "# What version of Pandas did you install?\n",
    "\n",
    "import pandas as pd\n",
    "pd.__version__"
   ]
  },
  {
   "cell_type": "code",
   "execution_count": 2,
   "id": "d4ba6bd0-4fa9-4233-90db-7153b4bccbdb",
   "metadata": {},
   "outputs": [
    {
     "name": "stdout",
     "output_type": "stream",
     "text": [
      "9704\n"
     ]
    }
   ],
   "source": [
    "# Q2. Records count\n",
    "# How many records are in the dataset?\n",
    "\n",
    "\n",
    "df = pd.read_csv('car_fuel_efficiency.csv')\n",
    "row_count = len(df)      # Number of data rows\n",
    "row_count = df.shape[0]  # Alternative method for number of rows\n",
    "print(row_count)\n"
   ]
  },
  {
   "cell_type": "code",
   "execution_count": 10,
   "id": "3c4369ca-81b6-4081-8c64-037cca2619b3",
   "metadata": {},
   "outputs": [
    {
     "name": "stdout",
     "output_type": "stream",
     "text": [
      "2\n"
     ]
    }
   ],
   "source": [
    "# Q3. Fuel types\n",
    "# How many fuel types are presented in the dataset?\n",
    "\n",
    "print(\"2\")"
   ]
  },
  {
   "cell_type": "code",
   "execution_count": 3,
   "id": "970910e3-498a-46fb-acc9-a4b454c02a78",
   "metadata": {},
   "outputs": [
    {
     "name": "stdout",
     "output_type": "stream",
     "text": [
      "4\n"
     ]
    }
   ],
   "source": [
    "# Q4. Missing values\n",
    "# How many columns in the dataset have missing values?\n",
    "\n",
    "missing_count = df.isnull().sum()\n",
    "missing_cols = (missing_count > 0).sum()\n",
    "print(missing_cols)\n"
   ]
  },
  {
   "cell_type": "code",
   "execution_count": 6,
   "id": "7bbefd9f-662b-431d-9e07-0d10a02b297b",
   "metadata": {},
   "outputs": [
    {
     "name": "stdout",
     "output_type": "stream",
     "text": [
      "23.759122836520497\n"
     ]
    }
   ],
   "source": [
    "# Q5. Max fuel efficiency\n",
    "\n",
    "# What's the maximum fuel efficiency of cars from Asia?\n",
    "\n",
    "\n",
    "filtered_df = df[df['origin'] == 'Asia']\n",
    "max_fuel_efficiency = filtered_df['fuel_efficiency_mpg'].max()\n",
    "print(max_fuel_efficiency)"
   ]
  },
  {
   "cell_type": "code",
   "execution_count": 9,
   "id": "aa9ea574-8ded-44af-a653-9f7df056a09f",
   "metadata": {},
   "outputs": [
    {
     "name": "stdout",
     "output_type": "stream",
     "text": [
      "149.0\n",
      "152.0\n",
      "152.0\n"
     ]
    }
   ],
   "source": [
    "# Q6. Median value of horsepower\n",
    "\n",
    "\n",
    "#    1.) Find the median value of the horsepower column in the dataset.\n",
    "#    2.) Next, calculate the most frequent value of the same horsepower column.\n",
    "#    3.) Use the fillna method to fill the missing values in the horsepower column with the most frequent value from the previous step.\n",
    "#    4.) Now, calculate the median value of horsepower once again.\n",
    "\n",
    "\n",
    "\n",
    "median_value = df['horsepower'].median()\n",
    "print(median_value)\n",
    "\n",
    "most_frequent_value = df['horsepower'].mode()[0]\n",
    "print(most_frequent_value)\n",
    "\n",
    "newdf = df.fillna(152.0)\n",
    "\n",
    "new_median_value = newdf['horsepower'].median()\n",
    "print(new_median_value)"
   ]
  },
  {
   "cell_type": "code",
   "execution_count": 12,
   "id": "66265bb3-f293-45e4-9c3b-dc497f85da7e",
   "metadata": {},
   "outputs": [
    {
     "name": "stdout",
     "output_type": "stream",
     "text": [
      "0.5187709081074007\n"
     ]
    }
   ],
   "source": [
    "# Q7. Sum of weights\n",
    "\n",
    "#    Select all the cars from Asia\n",
    "#    Select only columns vehicle_weight and model_year\n",
    "#    Select the first 7 values\n",
    "#    Get the underlying NumPy array. Let's call it X.\n",
    "#    Compute matrix-matrix multiplication between the transpose of X and X. To get the transpose, use X.T. Let's call the result XTX.\n",
    "#    Invert XTX.\n",
    "#    Create an array y with values [1100, 1300, 800, 900, 1000, 1100, 1200].\n",
    "#    Multiply the inverse of XTX with the transpose of X, and then multiply the result by y. Call the result w.\n",
    "#    What's the sum of all the elements of the result?\n",
    "\n",
    "import numpy as np\n",
    "\n",
    "asian_cars = df[df['origin'] == 'Asia']\n",
    "\n",
    "result = asian_cars[['vehicle_weight', 'model_year']]\n",
    "\n",
    "first_7_rows = result.head(7)\n",
    "\n",
    "X = first_7_rows.to_numpy()\n",
    "\n",
    "XTX = X.T @ X\n",
    "\n",
    "y = np.array([1100, 1300, 800, 900, 1000, 1100, 1200])\n",
    "\n",
    "XTX_inv = np.linalg.inv(XTX)\n",
    "w = XTX_inv @ X.T @ y\n",
    "print(w.sum())\n",
    "\n"
   ]
  },
  {
   "cell_type": "code",
   "execution_count": null,
   "id": "a9fa8225-82a2-4c37-9111-c17a2cb4b6b5",
   "metadata": {},
   "outputs": [],
   "source": []
  }
 ],
 "metadata": {
  "kernelspec": {
   "display_name": "Python 3 (ipykernel)",
   "language": "python",
   "name": "python3"
  },
  "language_info": {
   "codemirror_mode": {
    "name": "ipython",
    "version": 3
   },
   "file_extension": ".py",
   "mimetype": "text/x-python",
   "name": "python",
   "nbconvert_exporter": "python",
   "pygments_lexer": "ipython3",
   "version": "3.13.7"
  }
 },
 "nbformat": 4,
 "nbformat_minor": 5
}
